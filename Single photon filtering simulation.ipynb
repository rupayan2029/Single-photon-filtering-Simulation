{
 "cells": [
  {
   "cell_type": "code",
   "execution_count": 1,
   "id": "228069ee",
   "metadata": {},
   "outputs": [],
   "source": [
    "import numpy as np\n",
    "import scipy as sp\n",
    "import sympy as sy\n",
    "import cmath"
   ]
  },
  {
   "cell_type": "code",
   "execution_count": 2,
   "id": "cb42a752",
   "metadata": {},
   "outputs": [],
   "source": [
    "import matplotlib.pyplot as plt"
   ]
  },
  {
   "cell_type": "code",
   "execution_count": 3,
   "id": "c99b3995",
   "metadata": {},
   "outputs": [],
   "source": [
    "import qutip as qt\n",
    "from qnet.algebra.hilbert_space_algebra import *\n",
    "from qnet.algebra.operator_algebra import *\n",
    "from qnet.algebra.circuit_algebra import *"
   ]
  },
  {
   "cell_type": "markdown",
   "id": "22ec6104",
   "metadata": {},
   "source": [
    "Using QNET to compute the series product, $ G_{T} =G \\triangleleft M $"
   ]
  },
  {
   "cell_type": "code",
   "execution_count": 4,
   "id": "6b2ddfdf",
   "metadata": {},
   "outputs": [
    {
     "data": {
      "text/latex": [
       "$\\left( \\begin{pmatrix} {\\rm 1} & {\\rm 0} \\\\ {\\rm 0} & {\\rm 1}\\end{pmatrix}, \\begin{pmatrix}  2 {\\sigma_{{\\rm g},{\\rm e}}^{{{\\rm tls}}}} \\\\ 0\\end{pmatrix},  \\omega \\left({\\rm {\\Pi_{{\\rm tls}}^{{{\\rm e}}}}} - {\\Pi_{{\\rm tls}}^{{{\\rm g}}}}\\right) \\right)$"
      ],
      "text/plain": [
       "SLH(Matrix([[1, 0], [0, 1]]), Matrix([[ScalarTimesOperator(2, LocalSigma(LocalSpace('tls', ''), 'g', 'e'))], [ZeroOperator]]), ScalarTimesOperator(omega, OperatorPlus(LocalSigma(LocalSpace('e', ''), 'tls', 'tls'), ScalarTimesOperator(-1, LocalSigma(LocalSpace('g', ''), 'tls', 'tls')))))"
      ]
     },
     "execution_count": 4,
     "metadata": {},
     "output_type": "execute_result"
    }
   ],
   "source": [
    "#kappa=symbols(\"kappa\", real=True)\n",
    "omega=symbols(\"omega\", real=True)\n",
    "tls = local_space('tls', basis=('e', 'g') )\n",
    "sigma = LocalSigma(tls, 'g', 'e')\n",
    "sigmaz=LocalProjector('e', 'tls') - LocalProjector('g', 'tls')\n",
    "S_g=identity_matrix(2)\n",
    "L1_g=sigma\n",
    "L2_g = 0\n",
    "L_g = Matrix([[L1_g], \\\n",
    "              [L2_g]])\n",
    "H_g=0\n",
    "G=SLH(S_g, L_g, H_g).toSLH()\n",
    "\n",
    "S_h=identity_matrix(2)\n",
    "L1_h=sigma\n",
    "L2_h = 0\n",
    "L_h = Matrix([[L1_h], \\\n",
    "              [L2_h]])\n",
    "H_h=omega*sigmaz\n",
    "M=SLH(S_h, L_h, H_h).toSLH()\n",
    "G_T=SeriesProduct(M,G)\n",
    "G_T = G_T.toSLH()\n",
    "G_T"
   ]
  },
  {
   "cell_type": "code",
   "execution_count": 5,
   "id": "d5952062",
   "metadata": {},
   "outputs": [],
   "source": [
    "params = {omega :1.0545718*10**-34*90*10**9}\n",
    "G_T_num = G_T.substitute(params)"
   ]
  },
  {
   "cell_type": "markdown",
   "id": "256622d5",
   "metadata": {},
   "source": [
    "In the next couple of code cells belpw we are implementing the extended system filtering equation i.e.\n",
    "$$\n",
    "\\begin{aligned}\n",
    "G_{T} &=G \\triangleleft M \\\\\n",
    "&=\\left(S, L+\\frac{\\xi(t)}{\\sqrt{w(t)}} S \\sigma_{-}, H+\\frac{\\xi(t)}{\\sqrt{w(t)}} \\operatorname{Im}\\left(L^{\\dagger} S \\sigma_{-}\\right)\\right)\n",
    "\\end{aligned}\n",
    "$$\n",
    "With the ancilla and system SLH parameters being, $G= \\left(I, \\lambda(t) \\sigma_{-},  0 \\right) $ and  $M= \\left(I, \\sqrt\\kappa \\sigma_{-},  \\omega_0\\sigma_{z} \\right) $\n",
    "which is interpreted as  \n",
    "$$\n",
    "\\begin{aligned}\n",
    "G_{T} &=\\left(I \\otimes I, I\\otimes\\sqrt\\kappa+ \\lambda(t)\\sigma_{-} \\otimes I, I \\otimes \\omega_{0}\\sigma_{z}\\right)\n",
    "\\end{aligned}\n",
    "$$\n",
    "The code cell immediately below is implementing wavepacket shape $\\xi(t)= \\sqrt\\beta \\exp (-(\\beta-i\\omega_0))$ for t $>$ 0 [1]     and the time dependent coefficient $\\lambda(t)+\\sqrt\\kappa$ of the combined system collapse operator by the python functions \"epsilon_t\" and \"col_coeff\" respectively.  Where $\\lambda(t)=\\frac{1}{\\sqrt{w(t)}} \\xi(t)$ and $w(t)=\\int_{t}^{\\infty}|\\xi(s)|^{2} d s$.  \n",
    "\\\n",
    "[1]: [arXiv:1902.10961] Guofeng Zhang, Control of continuous-mode single-photon states: a review "
   ]
  },
  {
   "cell_type": "code",
   "execution_count": 8,
   "id": "03a6c83e",
   "metadata": {},
   "outputs": [],
   "source": [
    "import scipy.integrate as integrate\n",
    "\n",
    "beta = 61*10**6\n",
    "omega_0 =1*10**9\n",
    "k= 0.02*10**6\n",
    "times = np.linspace(1, 16, 301)\n",
    "\n",
    "def epsilon_t (t,args):\n",
    "    x=complex(-beta/2, omega_0)*times\n",
    "    return np.sqrt(beta)*np.exp(x)\n",
    "\n",
    "def col_coeff(t, args):\n",
    "    times1=np.linspace(1, t, 301)\n",
    "    e=complex(-beta/2, omega_0)*times1\n",
    "    d=np.sqrt(beta)*np.exp(e)\n",
    "    b=abs(d)**2\n",
    "    f=complex(-beta/2, omega_0)*t\n",
    "    g=np.sqrt(beta)*np.exp(f)\n",
    "    x=complex(-beta/2, omega_0)*times\n",
    "    z=np.sqrt(beta)*np.exp(x)\n",
    "    c=abs(z)**2\n",
    "    N= integrate.simpson(c, times) \n",
    "    w = integrate.simpson(b, times1)/N\n",
    "    l=(g/np.sqrt(w))+np.sqrt(k)\n",
    "    return l"
   ]
  },
  {
   "cell_type": "markdown",
   "id": "96db3d69",
   "metadata": {},
   "source": [
    "Below is the qutip implementation of the extended system filter: $$\n",
    "\\begin{aligned}\n",
    "d \\tilde{\\pi}_{t}(A \\otimes X)=& \\tilde{\\pi}_{t}\\left(\\mathcal{L}_{G_{T}}(A \\otimes X)\\right) d t \\\\\n",
    "&+\\left(\\tilde{\\pi}_{t}\\left(A \\otimes X L_{T}+L_{T}^{\\dagger} A \\otimes X\\right)\\right.\\\\\n",
    "&\\left.-\\tilde{\\pi}_{t}\\left(L_{T}+L_{T}^{\\dagger}\\right) \\tilde{\\pi}_{t}(A \\otimes X)\\right) d W(t)\n",
    "\\end{aligned}\n",
    "$$\n",
    "for an arbitrary ancilla + system operator, $y=A \\otimes X=\\sigma_{x} \\otimes \\sigma_{z}\\ $, \n",
    "$S_{T}= I \\otimes I$, $L_{T}=I\\otimes\\sqrt\\kappa\\sigma_{-}+ \\lambda(t)\\sigma_{-} \\otimes I$ and $H_{T}=I \\otimes \\omega_{0}\\sigma_{z}$ with initial state being $ \\left\\rvert\\psi\\right\\rangle= \\left\\rvert1\\right\\rangle \\otimes \\left\\rvert0\\right\\rangle $ with $\\left\\rvert0\\right\\rangle=\\begin{pmatrix}\n",
    "  0 \\\\ \n",
    "  1 \n",
    "\\end{pmatrix} $ and $\\left\\rvert1\\right\\rangle= \\begin{pmatrix}\n",
    "  1 \\\\ \n",
    "  0 \n",
    "\\end{pmatrix}$"
   ]
  },
  {
   "cell_type": "code",
   "execution_count": 9,
   "id": "260fee6f",
   "metadata": {},
   "outputs": [
    {
     "name": "stderr",
     "output_type": "stream",
     "text": [
      "c:\\users\\rupay\\appdata\\local\\programs\\python\\python39\\lib\\site-packages\\scipy\\integrate\\_quadrature.py:414: RuntimeWarning: invalid value encountered in true_divide\n",
      "  h0divh1 = h0 / h1\n",
      "c:\\users\\rupay\\appdata\\local\\programs\\python\\python39\\lib\\site-packages\\scipy\\integrate\\_quadrature.py:416: RuntimeWarning: invalid value encountered in true_divide\n",
      "  y[slice1] * (hsum * hsum / hprod) +\n",
      "C:\\Users\\rupay\\AppData\\Local\\Temp/ipykernel_18392/2507341613.py:24: RuntimeWarning: invalid value encountered in cdouble_scalars\n",
      "  l=(g/np.sqrt(w))+np.sqrt(k)\n",
      "C:\\Users\\rupay\\AppData\\Local\\Temp/ipykernel_18392/2507341613.py:23: RuntimeWarning: invalid value encountered in double_scalars\n",
      "  w = integrate.simpson(b, times1)/N\n"
     ]
    },
    {
     "name": "stdout",
     "output_type": "stream",
     "text": [
      "10.0%. Run time: 1898.83s. Est. time left: 00:04:44:49\n",
      "20.0%. Run time: 3754.66s. Est. time left: 00:04:10:18\n",
      "30.0%. Run time: 5602.58s. Est. time left: 00:03:37:52\n",
      "40.0%. Run time: 7097.77s. Est. time left: 00:02:57:26\n",
      "50.0%. Run time: 8928.35s. Est. time left: 00:02:28:48\n",
      "60.0%. Run time: 10836.91s. Est. time left: 00:02:00:24\n",
      "70.0%. Run time: 12693.08s. Est. time left: 00:01:30:39\n",
      "80.0%. Run time: 14423.12s. Est. time left: 00:01:00:05\n",
      "90.0%. Run time: 15963.66s. Est. time left: 00:00:29:33\n",
      "Total run time: 17469.46s\n"
     ]
    }
   ],
   "source": [
    "psi = qt.tensor(qt.basis(2,1),qt.basis(2,0))\n",
    "rho0 = qt.ket2dm(psi) \n",
    "H=qt.tensor(qt.qeye(2), qt.sigmaz())\n",
    "c_ops=[qt.tensor(qt.qeye(2), np.sqrt(0.5)*qt.sigmam()),[qt.tensor(qt.qeye(2),qt.sigmam()), col_coeff]]\n",
    "sc_ops=[qt.tensor(qt.qeye(2), np.sqrt(0.5)*qt.sigmam()),[qt.tensor(qt.qeye(2),qt.sigmam()), col_coeff]]\n",
    "y=qt.Qobj(qt.tensor(qt.sigmax(),qt.sigmaz()))\n",
    "#y=qt.Qobj(qt.tensor(qt.qeye(2),qt.sigmaz())+qt.tensor(qt.sigmax(),qt.qeye(2)))\n",
    "opt = qt.Options()\n",
    "opt.store_states = True\n",
    "nsubsteps = 50\n",
    "result = qt.smesolve(H, rho0, times, c_ops=c_ops,\n",
    "                  sc_ops=sc_ops, e_ops=[y], ntraj=100, nsubsteps=nsubsteps, solver=\"taylor15\",\n",
    "                  method='homodyne', store_measurement=True)"
   ]
  },
  {
   "cell_type": "code",
   "execution_count": 10,
   "id": "f02e2437",
   "metadata": {},
   "outputs": [
    {
     "data": {
      "image/png": "[encoded data removed]",
      "text/plain": [
       "<Figure size 432x288 with 1 Axes>"
      ]
     },
     "metadata": {
      "needs_background": "light"
     },
     "output_type": "display_data"
    }
   ],
   "source": [
    "plt.figure()\n",
    "plt.plot(times, result.expect[0], times)\n",
    "plt.title('')\n",
    "plt.xlabel('Time')\n",
    "plt.ylabel('Expectation values')\n",
    "plt.show()"
   ]
  },
  {
   "cell_type": "code",
   "execution_count": 11,
   "id": "ef3e3945",
   "metadata": {},
   "outputs": [
    {
     "data": {
      "text/plain": [
       "'C:\\\\Users\\\\rupay'"
      ]
     },
     "execution_count": 11,
     "metadata": {},
     "output_type": "execute_result"
    }
   ],
   "source": [
    "pwd"
   ]
  },
  {
   "cell_type": "code",
   "execution_count": null,
   "id": "72cb8e3c",
   "metadata": {},
   "outputs": [],
   "source": []
  }
 ],
 "metadata": {
  "kernelspec": {
   "display_name": "Python 3 (ipykernel)",
   "language": "python",
   "name": "python3"
  },
  "language_info": {
   "codemirror_mode": {
    "name": "ipython",
    "version": 3
   },
   "file_extension": ".py",
   "mimetype": "text/x-python",
   "name": "python",
   "nbconvert_exporter": "python",
   "pygments_lexer": "ipython3",
   "version": "3.9.6"
  }
 },
 "nbformat": 4,
 "nbformat_minor": 5
}
